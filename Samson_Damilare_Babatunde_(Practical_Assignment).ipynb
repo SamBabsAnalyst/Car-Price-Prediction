{
  "nbformat": 4,
  "nbformat_minor": 0,
  "metadata": {
    "colab": {
      "provenance": [],
      "authorship_tag": "ABX9TyM7WafVhCI697Rz1RnJ88ki",
      "include_colab_link": true
    },
    "kernelspec": {
      "name": "python3",
      "display_name": "Python 3"
    },
    "language_info": {
      "name": "python"
    }
  },
  "cells": [
    {
      "cell_type": "markdown",
      "metadata": {
        "id": "view-in-github",
        "colab_type": "text"
      },
      "source": [
        "<a href=\"https://colab.research.google.com/github/SamBabsAnalyst/Car-Price-Prediction/blob/main/Samson_Damilare_Babatunde_(Practical_Assignment).ipynb\" target=\"_parent\"><img src=\"https://colab.research.google.com/assets/colab-badge.svg\" alt=\"Open In Colab\"/></a>"
      ]
    },
    {
      "cell_type": "markdown",
      "source": [
        "**QUESTION 1:**"
      ],
      "metadata": {
        "id": "Jq-7NkYWyzjn"
      }
    },
    {
      "cell_type": "code",
      "execution_count": 1,
      "metadata": {
        "id": "6jDIIYGhv10H"
      },
      "outputs": [],
      "source": [
        "import csv\n",
        "from datetime import datetime, timedelta\n",
        "import random"
      ]
    },
    {
      "cell_type": "code",
      "source": [
        "def calculate_age(birthdate):\n",
        "    today = datetime.now()\n",
        "    age = (today - birthdate).days // 365\n",
        "    return age"
      ],
      "metadata": {
        "id": "qGYqZEcuwD2A"
      },
      "execution_count": 2,
      "outputs": []
    },
    {
      "cell_type": "code",
      "source": [
        "def assign_class_group(age):\n",
        "    if 9 <= age <= 14:\n",
        "        return 'STEM CAFE'\n",
        "    elif age >= 16:\n",
        "        return 'Data Science'\n",
        "    else:\n",
        "        return 'Unknown'"
      ],
      "metadata": {
        "id": "z9pX8OrjwLXg"
      },
      "execution_count": 4,
      "outputs": []
    },
    {
      "cell_type": "code",
      "source": [
        "def generate_random_applicant_details():\n",
        "    applicants = []\n",
        "    for i in range(1, 8):\n",
        "        first_name = f\"First_name_{i}\"\n",
        "        surname = f\"Surname_{i}\"\n",
        "        town = f\"Town_{i}\"\n",
        "        birth_year = random.randint(1980, 2010)\n",
        "        birth_month = random.randint(1, 12)\n",
        "        birth_day = random.randint(1, 28)  # Assume all months have max 28 days for simplicity\n",
        "        birthdate = datetime(birth_year, birth_month, birth_day)\n",
        "        age = calculate_age(birthdate)\n",
        "        class_group = assign_class_group(age)\n",
        "        birthday = f\"({birth_day}, {datetime(1900, birth_month, 1).strftime('%B')})\"\n",
        "        applicants.append([datetime.now().strftime(\"%Y-%m-%d\"), i, first_name, surname, age, class_group, birthday])\n",
        "    return applicants"
      ],
      "metadata": {
        "id": "4SqOp8LjwosR"
      },
      "execution_count": 5,
      "outputs": []
    },
    {
      "cell_type": "code",
      "source": [
        "def write_to_csv(applicants):\n",
        "    with open('applicant_records.csv', 'w', newline='') as file:\n",
        "        writer = csv.writer(file)\n",
        "        writer.writerow([\"Date\", \"Serial Number\", \"First name\", \"Surname\", \"Age\", \"Class group\", \"Birthday\"])\n",
        "        for applicant in applicants:\n",
        "            writer.writerow(applicant)"
      ],
      "metadata": {
        "id": "VooGslZYwuEx"
      },
      "execution_count": 6,
      "outputs": []
    },
    {
      "cell_type": "code",
      "source": [
        "def print_formatted_contents():\n",
        "    print(\"{:<15} {:<15} {:<15} {:<15} {:<15} {:<15} {:<15}\".format(\"Date\", \"Serial Number\", \"First name\", \"Surname\", \"Age\", \"Class group\", \"Birthday\"))\n",
        "    print(\"=\"*105)\n",
        "    with open('applicant_records.csv', 'r', newline='') as file:\n",
        "        reader = csv.reader(file)\n",
        "        next(reader)  # Skip header\n",
        "        for row in reader:\n",
        "            print(\"{:<15} {:<15} {:<15} {:<15} {:<15} {:<15} {:<15}\".format(*row))"
      ],
      "metadata": {
        "id": "bYstj9oiw0BX"
      },
      "execution_count": 7,
      "outputs": []
    },
    {
      "cell_type": "code",
      "source": [
        "# Generate random applicant details\n",
        "applicants_data = generate_random_applicant_details()\n",
        "applicants_data"
      ],
      "metadata": {
        "colab": {
          "base_uri": "https://localhost:8080/"
        },
        "id": "5WyPOHD4w84m",
        "outputId": "8643f059-e5db-4d9e-8f0c-4d646fb46bdd"
      },
      "execution_count": 11,
      "outputs": [
        {
          "output_type": "execute_result",
          "data": {
            "text/plain": [
              "[['2024-03-23',\n",
              "  1,\n",
              "  'First_name_1',\n",
              "  'Surname_1',\n",
              "  23,\n",
              "  'Data Science',\n",
              "  '(21, August)'],\n",
              " ['2024-03-23',\n",
              "  2,\n",
              "  'First_name_2',\n",
              "  'Surname_2',\n",
              "  32,\n",
              "  'Data Science',\n",
              "  '(8, June)'],\n",
              " ['2024-03-23',\n",
              "  3,\n",
              "  'First_name_3',\n",
              "  'Surname_3',\n",
              "  38,\n",
              "  'Data Science',\n",
              "  '(16, March)'],\n",
              " ['2024-03-23',\n",
              "  4,\n",
              "  'First_name_4',\n",
              "  'Surname_4',\n",
              "  39,\n",
              "  'Data Science',\n",
              "  '(19, April)'],\n",
              " ['2024-03-23',\n",
              "  5,\n",
              "  'First_name_5',\n",
              "  'Surname_5',\n",
              "  31,\n",
              "  'Data Science',\n",
              "  '(10, March)'],\n",
              " ['2024-03-23',\n",
              "  6,\n",
              "  'First_name_6',\n",
              "  'Surname_6',\n",
              "  20,\n",
              "  'Data Science',\n",
              "  '(13, February)'],\n",
              " ['2024-03-23',\n",
              "  7,\n",
              "  'First_name_7',\n",
              "  'Surname_7',\n",
              "  31,\n",
              "  'Data Science',\n",
              "  '(26, July)']]"
            ]
          },
          "metadata": {},
          "execution_count": 11
        }
      ]
    },
    {
      "cell_type": "code",
      "source": [
        "# Write to CSV\n",
        "write_to_csv(applicants_data)"
      ],
      "metadata": {
        "id": "4_fGeta9xIL6"
      },
      "execution_count": 12,
      "outputs": []
    },
    {
      "cell_type": "code",
      "source": [
        "# Print formatted contents\n",
        "print_formatted_contents()"
      ],
      "metadata": {
        "colab": {
          "base_uri": "https://localhost:8080/"
        },
        "id": "aF6WxiXJxZfn",
        "outputId": "771afb99-ef9f-4b9e-c0a3-8f3e4feec516"
      },
      "execution_count": 13,
      "outputs": [
        {
          "output_type": "stream",
          "name": "stdout",
          "text": [
            "Date            Serial Number   First name      Surname         Age             Class group     Birthday       \n",
            "=========================================================================================================\n",
            "2024-03-23      1               First_name_1    Surname_1       23              Data Science    (21, August)   \n",
            "2024-03-23      2               First_name_2    Surname_2       32              Data Science    (8, June)      \n",
            "2024-03-23      3               First_name_3    Surname_3       38              Data Science    (16, March)    \n",
            "2024-03-23      4               First_name_4    Surname_4       39              Data Science    (19, April)    \n",
            "2024-03-23      5               First_name_5    Surname_5       31              Data Science    (10, March)    \n",
            "2024-03-23      6               First_name_6    Surname_6       20              Data Science    (13, February) \n",
            "2024-03-23      7               First_name_7    Surname_7       31              Data Science    (26, July)     \n"
          ]
        }
      ]
    },
    {
      "cell_type": "markdown",
      "source": [
        "This script generates random details for 7 potential applicants, calculates their ages, assigns them to class groups based on age, writes the data to a CSV file, and then prints the contents of the CSV file in a well-formatted manner."
      ],
      "metadata": {
        "id": "mDKW5ehT1i88"
      }
    },
    {
      "cell_type": "markdown",
      "source": [
        "**QUESTION 2**"
      ],
      "metadata": {
        "id": "EakFr7rZzItK"
      }
    },
    {
      "cell_type": "code",
      "source": [
        "import csv"
      ],
      "metadata": {
        "id": "fWmpP6TrxdiD"
      },
      "execution_count": 15,
      "outputs": []
    },
    {
      "cell_type": "code",
      "source": [
        "def celsius_to_fahrenheit(celsius):\n",
        "    return (9/5) * celsius + 32"
      ],
      "metadata": {
        "id": "5P1uc7wiza_6"
      },
      "execution_count": 16,
      "outputs": []
    },
    {
      "cell_type": "code",
      "source": [
        "def write_to_csv(serial_number, city, temperature_celsius):\n",
        "    temperature_fahrenheit = celsius_to_fahrenheit(temperature_celsius)\n",
        "    with open('city_temperatures.csv', 'a', newline='') as file:\n",
        "        writer = csv.writer(file)\n",
        "        writer.writerow([serial_number, city, temperature_fahrenheit])"
      ],
      "metadata": {
        "id": "AKJttE7bzeqB"
      },
      "execution_count": 17,
      "outputs": []
    },
    {
      "cell_type": "code",
      "source": [
        "def print_formatted_contents():\n",
        "    print(\"{:<15} {:<15} {:<15}\".format(\"Serial Number\", \"City\", \"Temperature (Fahrenheit)\"))\n",
        "    print(\"=\"*45)\n",
        "    with open('city_temperatures.csv', 'r', newline='') as file:\n",
        "        reader = csv.reader(file)\n",
        "        for row in reader:\n",
        "            print(\"{:<15} {:<15} {:<15}\".format(row[0], row[1], row[2]))"
      ],
      "metadata": {
        "id": "7jfHGJNSzi1y"
      },
      "execution_count": 18,
      "outputs": []
    },
    {
      "cell_type": "code",
      "source": [
        "# FOR EXAMPLE:\n",
        "cities = [\n",
        "    (1, 'Berlin', 29),\n",
        "    (2, 'Cairo', 36),\n",
        "    (3, 'Buenos Aires', 19),\n",
        "    (4, 'Los Angeles', 26),\n",
        "    (5, 'Tokyo', 27),\n",
        "    (6, 'New York', 28),\n",
        "    (7, 'London', 22)\n",
        "]"
      ],
      "metadata": {
        "id": "vnB6C32Uzmgt"
      },
      "execution_count": 20,
      "outputs": []
    },
    {
      "cell_type": "code",
      "source": [
        "for city in cities:\n",
        "    write_to_csv(city[0], city[1], city[2])"
      ],
      "metadata": {
        "id": "xRPjSG7az1DV"
      },
      "execution_count": 21,
      "outputs": []
    },
    {
      "cell_type": "code",
      "source": [
        "print_formatted_contents()"
      ],
      "metadata": {
        "colab": {
          "base_uri": "https://localhost:8080/"
        },
        "id": "_Y4HhYtAz-Yq",
        "outputId": "9e8b033d-3dcf-4f08-ccc0-97f561e9f531"
      },
      "execution_count": 22,
      "outputs": [
        {
          "output_type": "stream",
          "name": "stdout",
          "text": [
            "Serial Number   City            Temperature (Fahrenheit)\n",
            "=============================================\n",
            "1               Berlin          84.2           \n",
            "2               Cairo           96.8           \n",
            "3               Buenos Aires    66.2           \n",
            "4               Los Angeles     78.80000000000001\n",
            "5               Tokyo           80.6           \n",
            "6               New York        82.4           \n",
            "7               London          71.6           \n"
          ]
        }
      ]
    },
    {
      "cell_type": "markdown",
      "source": [
        "This code defines two functions: write_to_csv() to write the data to a CSV file in the required format, and print_formatted_contents() to read the CSV file and print its contents in a well-formatted manner. The celsius_to_fahrenheit() function converts temperatures from Celsius to Fahrenheit. Finally, it demonstrates an example usage by iterating over the provided city data and writing it to the CSV file before printing the formatted contents."
      ],
      "metadata": {
        "id": "m6FLbvwE1SJw"
      }
    },
    {
      "cell_type": "markdown",
      "source": [
        "**QUESTION 3**"
      ],
      "metadata": {
        "id": "K9CKeIze0GMv"
      }
    },
    {
      "cell_type": "code",
      "source": [
        "import csv\n",
        "import math"
      ],
      "metadata": {
        "id": "-75cCgLL0MUq"
      },
      "execution_count": 23,
      "outputs": []
    },
    {
      "cell_type": "code",
      "source": [
        "def solve_quadratic_equation(a, b, c):\n",
        "    discriminant = b**2 - 4*a*c\n",
        "    if discriminant < 0:\n",
        "        return None, None\n",
        "    elif discriminant == 0:\n",
        "        x1 = x2 = -b / (2*a)\n",
        "    else:\n",
        "        x1 = (-b + math.sqrt(discriminant)) / (2*a)\n",
        "        x2 = (-b - math.sqrt(discriminant)) / (2*a)\n",
        "    return x1, x2"
      ],
      "metadata": {
        "id": "_2-OeMlb0Rhu"
      },
      "execution_count": 24,
      "outputs": []
    },
    {
      "cell_type": "code",
      "source": [
        "def write_to_csv(serial_number, a, b, c):\n",
        "    x1, x2 = solve_quadratic_equation(a, b, c)\n",
        "    equation = f\"{a}x^2 + {b}x + {c}\"\n",
        "    with open('quadratic_equations.csv', 'a', newline='') as file:\n",
        "        writer = csv.writer(file)\n",
        "        writer.writerow([serial_number, a, b, c, equation, x1, x2])"
      ],
      "metadata": {
        "id": "KsbogAX70WhI"
      },
      "execution_count": 25,
      "outputs": []
    },
    {
      "cell_type": "code",
      "source": [
        "def print_formatted_contents():\n",
        "    print(\"{:<8} {:<8} {:<8} {:<8} {:<20} {:<8} {:<8}\".format(\"S/No\", \"a\", \"b\", \"c\", \"Equation\", \"X1\", \"X2\"))\n",
        "    print(\"=\"*68)\n",
        "    with open('quadratic_equations.csv', 'r', newline='') as file:\n",
        "        reader = csv.reader(file)\n",
        "        for row in reader:\n",
        "            print(\"{:<8} {:<8} {:<8} {:<8} {:<20} {:<8} {:<8}\".format(row[0], row[1], row[2], row[3], row[4], row[5], row[6]))"
      ],
      "metadata": {
        "id": "pCkdDQCO0bY1"
      },
      "execution_count": 26,
      "outputs": []
    },
    {
      "cell_type": "code",
      "source": [
        "# Practical Usage:\n",
        "equations = [\n",
        "    (1, 1, -16, 48),\n",
        "    (2, 2, 7, -9),\n",
        "    (3, 1, 0.9, -0.36),\n",
        "    (4, -3, 0, 243),\n",
        "    (5, 2, -11, 14)\n",
        "]"
      ],
      "metadata": {
        "id": "OtUKYmfd0jCT"
      },
      "execution_count": 27,
      "outputs": []
    },
    {
      "cell_type": "code",
      "source": [
        "# Clear the contents of the CSV file before writing new data\n",
        "with open('quadratic_equations.csv', 'w', newline='') as file:\n",
        "    writer = csv.writer(file)\n",
        "    writer.writerow([\"S/No\", \"a\", \"b\", \"c\", \"Equation\", \"X1\", \"X2\"])"
      ],
      "metadata": {
        "id": "8MqbIAVs0sFY"
      },
      "execution_count": 28,
      "outputs": []
    },
    {
      "cell_type": "code",
      "source": [
        "for equation in equations:\n",
        "    write_to_csv(*equation)"
      ],
      "metadata": {
        "id": "D-m9xH9Q0xvp"
      },
      "execution_count": 29,
      "outputs": []
    },
    {
      "cell_type": "code",
      "source": [
        "print_formatted_contents()"
      ],
      "metadata": {
        "colab": {
          "base_uri": "https://localhost:8080/"
        },
        "id": "zQ1BvSlW02zx",
        "outputId": "5099e601-8d71-4755-de16-d6e73750e900"
      },
      "execution_count": 30,
      "outputs": [
        {
          "output_type": "stream",
          "name": "stdout",
          "text": [
            "S/No     a        b        c        Equation             X1       X2      \n",
            "====================================================================\n",
            "S/No     a        b        c        Equation             X1       X2      \n",
            "1        1        -16      48       1x^2 + -16x + 48     12.0     4.0     \n",
            "2        2        7        -9       2x^2 + 7x + -9       1.0      -4.5    \n",
            "3        1        0.9      -0.36    1x^2 + 0.9x + -0.36  0.3      -1.2    \n",
            "4        -3       0        243      -3x^2 + 0x + 243     -9.0     9.0     \n",
            "5        2        -11      14       2x^2 + -11x + 14     3.5      2.0     \n"
          ]
        }
      ]
    },
    {
      "cell_type": "markdown",
      "source": [
        "This code defines two functions: write_to_csv() to write the data to a CSV file in the required format, and print_formatted_contents() to read the CSV file and print its contents in a well-formatted manner. The solve_quadratic_equation() function calculates the solutions for a quadratic equation given coefficients a, b, and c. Finally, it demonstrates an example usage by iterating over the provided equations and writing them to the CSV file before printing the formatted contents."
      ],
      "metadata": {
        "id": "sKhCkMwL1Iqy"
      }
    }
  ]
}